{
 "cells": [
  {
   "cell_type": "markdown",
   "id": "5215b402",
   "metadata": {},
   "source": [
    "# Jupyter Introduction\n",
    "As I progress I've decided to document my learning. By taking the time to learn Jupyter I believe I will improve my note taking skills. This will also give me markdown syntax practice.\n",
    "\n",
    "Jupyter has two modes:\n",
    "- Command\n",
    "- Edit"
   ]
  },
  {
   "cell_type": "markdown",
   "id": "9fd1cc34",
   "metadata": {},
   "source": [
    "## Command Mode\n",
    "Important! When editing a cell press `esc` to enter command mode. Command mode is for easily navigating and changing the framework of the notebook. The framework is made up of cells. Use arrow keys to move up and down!\n",
    "\n",
    "### Here are the shortcuts\n",
    "These commands edit the structure of the document.\n",
    "- `a` - Add a cell above\n",
    "- `b` - Add a cell below\n",
    "- `c` - Copy a cell\n",
    "- `v` - Paste a cell\n",
    "- `x` - Cut a cell\n",
    "- `dd` - Delete a cell (don't forget to hit it twice)\n",
    "- `z` - undo\n",
    "- `shift + z` - Redo\n",
    "\n",
    "The commands change the format of the cells.\n",
    "- `y` - Code\n",
    "- `m` - Markdown\n",
    "\n",
    "---"
   ]
  },
  {
   "cell_type": "markdown",
   "id": "d7b1fd20",
   "metadata": {},
   "source": [
    "## Edit Mode\n",
    "The way I like to interpret edit mode is when you're typing inside a cell. In order to run (which will show you the results) press `shift + enter`.\n",
    "\n",
    "### Markdown\n",
    "As per Wikipedia:\n",
    "> Mardown is a lightweight markup language for creating formatter text using a plain-text editor.\n",
    "\n",
    "If you'd like to read more on Wikipedia [click here](https://en.wikipedia.org/wiki/Markdown).\n",
    "\n",
    "#### Headings\n",
    "We are able show headings in markdown using a `#`. We can do this up to six times one \"#\" symbol being the biggest six \"######\" symbols being the biggest. *Don't forget to leave a space between the symbol and the text.* An example in markdown would look like:\n",
    "\n",
    "`###### Heading 6`\n",
    "\n",
    "#### Styling Text\n",
    "Here's how to style text\n",
    "- `*italics*` -> *italics*\n",
    "- `**bold**` -> **bold**\n",
    "\n",
    "Let's move on to list. There are two types of list in in markdown:\n",
    "- unordered\n",
    "- ordered\n",
    "\n",
    "Unorder lists can be created like this `- this is an unordered list`\n",
    "Ordered lists can be created like this `1. first item`. Here are examples:\n",
    "- item 1\n",
    "- item 2\n",
    "1. item 1\n",
    "2. item 2\n",
    "\n",
    "We can show blockqoutes like this `> this is a blockqoute`.\n",
    "> this is a blockqoute\n",
    "\n",
    "We can create a horizontal line `---`. Below you should be able to see a horizontal line:\n",
    "\n",
    "---\n",
    "\n",
    "We can show inline code using backticks \\`this would appear as code\\` Example:\n",
    "\n",
    "Code coming up: `this would appear as code`. Code is over.\n",
    "\n",
    "Using three backticks we can show code blocks and use as many lines as we want!\n",
    "```\n",
    "three\n",
    "lines of\n",
    "code\n",
    "```\n",
    "\n",
    "We can create equations by framing with dollar signs . `$ X^2 $`looks like this: $ x^2 $\n",
    "\n",
    "Typing a url automatically links to that website! www.github.com/DataOPerez.\n",
    "\n",
    "Create a customized url like this \\[your text here\\]\\(your_link_here\\) "
   ]
  },
  {
   "attachments": {
    "image.png": {
     "image/png": "[encoded data removed]"
    }
   },
   "cell_type": "markdown",
   "id": "5e40de4d",
   "metadata": {},
   "source": [
    "### Coding\n",
    "As mentioned above we can switch to code formatting with the `y` key. In the top right we can see our kernel. I don't know what that means, let me google it.\n",
    "\n",
    "Here's what I found:\n",
    "> The kernel is the essential center of a computer operating system (OS). It is the core that provides basic services for all other parts of the OS. It is the main layer between the OS and hardware, and it helps with process and memory management, file systems, device control and networking.\n",
    "\n",
    "Read [more here](https://searchdatacenter.techtarget.com/definition/kernel#:~:text=The%20kernel%20is%20the%20essential,systems%2C%20device%20control%20and%20networking.).\n",
    "\n",
    "Here's am image that helps explain:\n",
    "\n",
    "![image.png](attachment:image.png)\n",
    "\n",
    "From my basic understanding it's a way for us to run code within our Jupyter notebook. See below for some code, if you'd like to run it click in the cell and press `shift + enter`"
   ]
  },
  {
   "cell_type": "code",
   "execution_count": null,
   "id": "0e234f7a",
   "metadata": {},
   "outputs": [],
   "source": [
    "x = 1\n",
    "print(x)"
   ]
  },
  {
   "cell_type": "markdown",
   "id": "080ebd55",
   "metadata": {},
   "source": [
    "You might notice a number to the left of the cell that looks like: `[1]`. This is the execution order of our code. Running the code again would advance forward one. Adding more code to another cell and running would advance it to another number. Don't forget we are running on the same kernel.\n",
    "\n",
    "Here's a fun example:"
   ]
  },
  {
   "cell_type": "code",
   "execution_count": null,
   "id": "3e3bb36d",
   "metadata": {},
   "outputs": [],
   "source": [
    "# Run this first!\n",
    "# We are defining x here.\n",
    "x = 6\n",
    "print(x)"
   ]
  },
  {
   "cell_type": "code",
   "execution_count": null,
   "id": "38565b77",
   "metadata": {},
   "outputs": [],
   "source": [
    "# Run this second!\n",
    "# Let's do something with x\n",
    "x = x + 6\n",
    "print(x)"
   ]
  },
  {
   "cell_type": "code",
   "execution_count": null,
   "id": "d1c1c4fe",
   "metadata": {},
   "outputs": [],
   "source": [
    "# Run this third! Then run the code above this cell again!\n",
    "x = 20"
   ]
  },
  {
   "cell_type": "markdown",
   "id": "8e6efef8",
   "metadata": {},
   "source": [
    "Did you notice how x changed from 12 to 26. That's normal, this is the way Jupyter is ment to work. We are able to jump all over the place and run our code.\n",
    "\n",
    "**If you'd like to try example again** we can restart the Kernel. Within command mode use the shortcut `00`, that's zero zero.\n",
    "\n",
    "Another side note if you're using JupyterLab there should be a run option which shows a lot of commands to save you time! If you're in Jupyter notebook the \"cell\" button shows similar commands."
   ]
  },
  {
   "cell_type": "markdown",
   "id": "45eb06f7",
   "metadata": {},
   "source": [
    "This information was based on Jupyter's \"How to Use Jupyter Lab\" YouTube video, [click here](https://www.youtube.com/watch?v=A5YyoCKxEOU&t=129s) if you'd like to watch it yourself!"
   ]
  },
  {
   "cell_type": "markdown",
   "id": "3ed37d83-8c85-4273-9735-35d492d6951a",
   "metadata": {},
   "source": [
    "## Author"
   ]
  },
  {
   "cell_type": "markdown",
   "id": "39fd5e7b-945f-43cc-88b4-e2ab731737fe",
   "metadata": {},
   "source": [
    "Oscar Perez"
   ]
  }
 ],
 "metadata": {
  "kernelspec": {
   "display_name": "Python 3 (ipykernel)",
   "language": "python",
   "name": "python3"
  },
  "language_info": {
   "codemirror_mode": {
    "name": "ipython",
    "version": 3
   },
   "file_extension": ".py",
   "mimetype": "text/x-python",
   "name": "python",
   "nbconvert_exporter": "python",
   "pygments_lexer": "ipython3",
   "version": "3.9.6"
  }
 },
 "nbformat": 4,
 "nbformat_minor": 5
}
