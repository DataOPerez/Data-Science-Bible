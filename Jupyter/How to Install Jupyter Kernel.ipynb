{
 "cells": [
  {
   "cell_type": "markdown",
   "id": "6b5d27ae-941a-46e2-acf0-c345b41eb0d9",
   "metadata": {},
   "source": [
    "# How to Install Jupyter Kernel for Jupyter"
   ]
  },
  {
   "cell_type": "markdown",
   "id": "5f6238db-683d-4aa7-9529-c629a2428747",
   "metadata": {},
   "source": [
    "After spending several hours attempting to complete this task, I finally figured the method. I manage this on macOS and I'm hoping this will work on Windows. I ended up using [this guide](https://docs.cloudera.com/cdsw/1.9.1/runtimes/topics/ml-installing-jupyter-kernel.html).\n",
    "\n",
    "I believe my mistake was attempting to run the commands on Git Bash from outside JupyterLab."
   ]
  },
  {
   "cell_type": "markdown",
   "id": "eb5221d7-1aa8-4ba2-9ebe-79cbdd50fa2c",
   "metadata": {},
   "source": [
    "1. Open Jupyter Lab\n",
    "```\n",
    "    jupyter lab\n",
    "```\n",
    "\n",
    "2. Open a terminal window **(inside of Jupyter)** and run the following commands\n",
    "```\n",
    "    pip install bash_kernel\n",
    "    python -m bash_kernel.install\n",
    "```\n",
    "\n",
    "There should now be an option to run a Bash notebook inside of Jupyter."
   ]
  },
  {
   "cell_type": "markdown",
   "id": "38084231-1e26-42dd-9688-1b22f71d1e7f",
   "metadata": {},
   "source": [
    "## Author"
   ]
  },
  {
   "cell_type": "markdown",
   "id": "0d021b6d-b85e-4126-aa8c-3a4af8d3b5da",
   "metadata": {},
   "source": [
    "Oscar Perez"
   ]
  }
 ],
 "metadata": {
  "kernelspec": {
   "display_name": "Bash",
   "language": "bash",
   "name": "bash"
  },
  "language_info": {
   "codemirror_mode": "shell",
   "file_extension": ".sh",
   "mimetype": "text/x-sh",
   "name": "bash"
  }
 },
 "nbformat": 4,
 "nbformat_minor": 5
}
